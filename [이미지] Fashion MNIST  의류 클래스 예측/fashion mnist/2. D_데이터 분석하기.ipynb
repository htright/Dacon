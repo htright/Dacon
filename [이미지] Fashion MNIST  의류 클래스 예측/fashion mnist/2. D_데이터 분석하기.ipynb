{
 "cells": [
  {
   "cell_type": "code",
   "execution_count": null,
   "id": "66049269",
   "metadata": {},
   "outputs": [],
   "source": [
    "# 데이터 분석하기 - CNN"
   ]
  },
  {
   "cell_type": "code",
   "execution_count": 4,
   "id": "08fdd92b",
   "metadata": {},
   "outputs": [],
   "source": [
    "import tensorflow as tf "
   ]
  },
  {
   "cell_type": "code",
   "execution_count": null,
   "id": "cf9327bf",
   "metadata": {},
   "outputs": [],
   "source": [
    "## 1. 필요한 라이브러리를 준비합니다."
   ]
  },
  {
   "cell_type": "code",
   "execution_count": 10,
   "id": "1253d08f",
   "metadata": {},
   "outputs": [],
   "source": [
    "import pandas as pd\n",
    "import numpy as np\n",
    "from sklearn.model_selection import train_test_split\n",
    "from tensorflow import keras\n",
    "from keras.models import Sequential\n",
    "from keras.layers import Conv2D,MaxPooling2D,Dense,Flatten\n",
    "from tensorflow.keras.optimizers import Adam\n",
    "from keras.callbacks import TensorBoard"
   ]
  },
  {
   "cell_type": "code",
   "execution_count": null,
   "id": "2f7d9639",
   "metadata": {},
   "outputs": [],
   "source": [
    "## 2. 데이터를 불러옵니다."
   ]
  },
  {
   "cell_type": "code",
   "execution_count": 14,
   "id": "3e0d9330",
   "metadata": {},
   "outputs": [],
   "source": [
    "train_df = pd.read_csv(r'data\\train.csv')\n",
    "test_df = pd.read_csv(r'data\\test.csv')"
   ]
  },
  {
   "cell_type": "code",
   "execution_count": null,
   "id": "ff0a2311",
   "metadata": {},
   "outputs": [],
   "source": [
    "##3. 데이터를 전처리합니다\n",
    "\n",
    "###이미지 분석에는 'Convolutional Neural Network', CNN이 주로 사용됩니다.\n",
    "\n",
    "###CNN을 사용하려면 먼저 데이터를 알맞게 가공해야 합니다. 요리 전에 재료를 손질하는 과정과 비슷합니다."
   ]
  },
  {
   "cell_type": "code",
   "execution_count": 15,
   "id": "0e2fe264",
   "metadata": {},
   "outputs": [],
   "source": [
    "train_data = np.array(train_df.iloc[:,1:], dtype = 'float32')\n",
    "test_data = np.array(test_df.iloc[:,1:], dtype='float32')"
   ]
  },
  {
   "cell_type": "code",
   "execution_count": 16,
   "id": "a1c3b88f",
   "metadata": {},
   "outputs": [],
   "source": [
    "x_train = train_data[:,1:]/255\n",
    "y_train = train_data[:,0]\n",
    "x_test= test_data/255"
   ]
  },
  {
   "cell_type": "code",
   "execution_count": 17,
   "id": "844a8124",
   "metadata": {},
   "outputs": [],
   "source": [
    "x_train,x_validate,y_train,y_validate = train_test_split(x_train,y_train,test_size = 0.2,random_state = 12345)"
   ]
  },
  {
   "cell_type": "code",
   "execution_count": 18,
   "id": "c5b0e3ee",
   "metadata": {},
   "outputs": [],
   "source": [
    "x_train = x_train.reshape(x_train.shape[0],28,28,1)\n",
    "x_test = x_test.reshape(x_test.shape[0],28,28,1)\n",
    "x_validate = x_validate.reshape(x_validate.shape[0],28,28,1)"
   ]
  },
  {
   "cell_type": "code",
   "execution_count": null,
   "id": "c314035b",
   "metadata": {},
   "outputs": [],
   "source": [
    "##4. CNN 모델을 구축합니다."
   ]
  },
  {
   "cell_type": "code",
   "execution_count": 19,
   "id": "63d4ef76",
   "metadata": {},
   "outputs": [],
   "source": [
    "cnn_model = Sequential([\n",
    "    Conv2D(filters=32,kernel_size=3,activation = 'relu',input_shape = (28,28,1)),\n",
    "    MaxPooling2D(pool_size=2),\n",
    "    Flatten(),\n",
    "    Dense(32,activation = 'relu'),\n",
    "    Dense(10,activation = 'softmax')\n",
    "])"
   ]
  },
  {
   "cell_type": "code",
   "execution_count": 20,
   "id": "c50067fb",
   "metadata": {},
   "outputs": [
    {
     "name": "stderr",
     "output_type": "stream",
     "text": [
      "C:\\Users\\G4560\\AppData\\Roaming\\Python\\Python39\\site-packages\\keras\\optimizer_v2\\adam.py:105: UserWarning: The `lr` argument is deprecated, use `learning_rate` instead.\n",
      "  super(Adam, self).__init__(name, **kwargs)\n"
     ]
    }
   ],
   "source": [
    "cnn_model.compile(loss ='sparse_categorical_crossentropy', optimizer=Adam(lr=0.001),metrics =['accuracy'])"
   ]
  },
  {
   "cell_type": "code",
   "execution_count": 21,
   "id": "2d522df2",
   "metadata": {},
   "outputs": [],
   "source": [
    "##5. 구축한 모델을 학습합니다."
   ]
  },
  {
   "cell_type": "code",
   "execution_count": 22,
   "id": "1571c837",
   "metadata": {},
   "outputs": [
    {
     "name": "stdout",
     "output_type": "stream",
     "text": [
      "Epoch 1/20\n",
      "94/94 [==============================] - 5s 49ms/step - loss: 0.7897 - accuracy: 0.7344 - val_loss: 0.5183 - val_accuracy: 0.8118\n",
      "Epoch 2/20\n",
      "94/94 [==============================] - 5s 48ms/step - loss: 0.4654 - accuracy: 0.8374 - val_loss: 0.4579 - val_accuracy: 0.8368\n",
      "Epoch 3/20\n",
      "94/94 [==============================] - 5s 48ms/step - loss: 0.4188 - accuracy: 0.8538 - val_loss: 0.4112 - val_accuracy: 0.8584\n",
      "Epoch 4/20\n",
      "94/94 [==============================] - 4s 47ms/step - loss: 0.3854 - accuracy: 0.8674 - val_loss: 0.3745 - val_accuracy: 0.8698\n",
      "Epoch 5/20\n",
      "94/94 [==============================] - 4s 47ms/step - loss: 0.3652 - accuracy: 0.8723 - val_loss: 0.3571 - val_accuracy: 0.8777\n",
      "Epoch 6/20\n",
      "94/94 [==============================] - 4s 47ms/step - loss: 0.3468 - accuracy: 0.8795 - val_loss: 0.3849 - val_accuracy: 0.8616\n",
      "Epoch 7/20\n",
      "94/94 [==============================] - 4s 48ms/step - loss: 0.3368 - accuracy: 0.8840 - val_loss: 0.3350 - val_accuracy: 0.8879\n",
      "Epoch 8/20\n",
      "94/94 [==============================] - 4s 47ms/step - loss: 0.3249 - accuracy: 0.8878 - val_loss: 0.3258 - val_accuracy: 0.8913\n",
      "Epoch 9/20\n",
      "94/94 [==============================] - 4s 47ms/step - loss: 0.3158 - accuracy: 0.8901 - val_loss: 0.3194 - val_accuracy: 0.8907\n",
      "Epoch 10/20\n",
      "94/94 [==============================] - 5s 48ms/step - loss: 0.3042 - accuracy: 0.8944 - val_loss: 0.3181 - val_accuracy: 0.8877\n",
      "Epoch 11/20\n",
      "94/94 [==============================] - 4s 48ms/step - loss: 0.2967 - accuracy: 0.8966 - val_loss: 0.3125 - val_accuracy: 0.8897\n",
      "Epoch 12/20\n",
      "94/94 [==============================] - 4s 48ms/step - loss: 0.2877 - accuracy: 0.9011 - val_loss: 0.3001 - val_accuracy: 0.8962\n",
      "Epoch 13/20\n",
      "94/94 [==============================] - 4s 48ms/step - loss: 0.2871 - accuracy: 0.8990 - val_loss: 0.3013 - val_accuracy: 0.8942\n",
      "Epoch 14/20\n",
      "94/94 [==============================] - 4s 47ms/step - loss: 0.2739 - accuracy: 0.9047 - val_loss: 0.2910 - val_accuracy: 0.8997\n",
      "Epoch 15/20\n",
      "94/94 [==============================] - 4s 47ms/step - loss: 0.2652 - accuracy: 0.9081 - val_loss: 0.2909 - val_accuracy: 0.8992\n",
      "Epoch 16/20\n",
      "94/94 [==============================] - 4s 48ms/step - loss: 0.2617 - accuracy: 0.9093 - val_loss: 0.2908 - val_accuracy: 0.8967\n",
      "Epoch 17/20\n",
      "94/94 [==============================] - 4s 47ms/step - loss: 0.2587 - accuracy: 0.9088 - val_loss: 0.2797 - val_accuracy: 0.9018\n",
      "Epoch 18/20\n",
      "94/94 [==============================] - 4s 48ms/step - loss: 0.2517 - accuracy: 0.9125 - val_loss: 0.2815 - val_accuracy: 0.9017\n",
      "Epoch 19/20\n",
      "94/94 [==============================] - 4s 47ms/step - loss: 0.2435 - accuracy: 0.9146 - val_loss: 0.2816 - val_accuracy: 0.9007\n",
      "Epoch 20/20\n",
      "94/94 [==============================] - 4s 47ms/step - loss: 0.2395 - accuracy: 0.9154 - val_loss: 0.2734 - val_accuracy: 0.9029\n"
     ]
    }
   ],
   "source": [
    "history = cnn_model.fit(\n",
    "    x_train,\n",
    "    y_train,\n",
    "    batch_size=512,\n",
    "    epochs=20,\n",
    "    verbose=1,\n",
    "    validation_data=(x_validate,y_validate),\n",
    ")"
   ]
  },
  {
   "cell_type": "code",
   "execution_count": null,
   "id": "5e58e89f",
   "metadata": {},
   "outputs": [],
   "source": [
    "##6. 학습한 모델로 test 데이터의 범주(클래스)를 예측합니다."
   ]
  },
  {
   "cell_type": "code",
   "execution_count": 25,
   "id": "c3d5f9c2",
   "metadata": {},
   "outputs": [],
   "source": [
    "y_pred0 = cnn_model.predict(x_test)\n",
    "y_pred = y_pred0.argmax(axis=-1)"
   ]
  },
  {
   "cell_type": "code",
   "execution_count": null,
   "id": "308bad7d",
   "metadata": {},
   "outputs": [],
   "source": [
    "##7. 예측값을 sample_submission 양식에 맞게 저장합니다."
   ]
  },
  {
   "cell_type": "code",
   "execution_count": 28,
   "id": "dff657e4",
   "metadata": {},
   "outputs": [],
   "source": [
    "submission = pd.read_csv(r'data\\sample_submission.csv', encoding = 'utf-8')\n",
    "submission['label'] = y_pred\n",
    "submission.to_csv(r'data\\fashion_submission.csv', index = False)"
   ]
  },
  {
   "cell_type": "code",
   "execution_count": null,
   "id": "2e4cc5be",
   "metadata": {},
   "outputs": [],
   "source": []
  }
 ],
 "metadata": {
  "kernelspec": {
   "display_name": "Python 3 (ipykernel)",
   "language": "python",
   "name": "python3"
  },
  "language_info": {
   "codemirror_mode": {
    "name": "ipython",
    "version": 3
   },
   "file_extension": ".py",
   "mimetype": "text/x-python",
   "name": "python",
   "nbconvert_exporter": "python",
   "pygments_lexer": "ipython3",
   "version": "3.9.7"
  }
 },
 "nbformat": 4,
 "nbformat_minor": 5
}
